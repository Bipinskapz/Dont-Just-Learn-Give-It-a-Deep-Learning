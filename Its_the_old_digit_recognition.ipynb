{
 "cells": [
  {
   "cell_type": "markdown",
   "metadata": {},
   "source": [
    "## Dependencies\n",
    "\n",
    "Mnist dataset of handwritten digits is the dataset \n",
    "                                                   - Consist of images of hanwritten digits with labels from 0 to 9\n",
    "                                                   - Contains 60000 training sample and 10000 testing samples\n",
    "                                                   - Each image has 28 by 28 pixels width and height\n",
    "                                                   - We will squash it into a 784(28*28=784) long vector\n",
    "                                                      \n",
    "Sequential models are nothing but layers of networks stacked on top of other\n",
    "\n",
    "Dense layers are interconnected neural networks, each node of a neural network is connected to every node of the next\n",
    "layer"
   ]
  },
  {
   "cell_type": "code",
   "execution_count": 1,
   "metadata": {},
   "outputs": [
    {
     "name": "stderr",
     "output_type": "stream",
     "text": [
      "C:\\Users\\Bipin Krishnan P\\Anaconda3\\lib\\site-packages\\h5py\\__init__.py:36: FutureWarning: Conversion of the second argument of issubdtype from `float` to `np.floating` is deprecated. In future, it will be treated as `np.float64 == np.dtype(float).type`.\n",
      "  from ._conv import register_converters as _register_converters\n",
      "Using TensorFlow backend.\n"
     ]
    }
   ],
   "source": [
    "from keras.datasets import mnist                #import MNIST handwritten digits dataset\n",
    "from keras.utils import np_utils                #for One Hot Encoding\n",
    "from keras.models import Sequential\n",
    "from keras.layers.core import Activation,Dense  #Layers and activation functions of NN\n",
    "from keras.optimizers import SGD                #Stochastic Gradient Descent algorithm for optimizer  \n"
   ]
  },
  {
   "cell_type": "code",
   "execution_count": 2,
   "metadata": {
    "scrolled": true
   },
   "outputs": [
    {
     "name": "stdout",
     "output_type": "stream",
     "text": [
      "Training data :(60000, 28, 28)  Training labels :(60000,)\n",
      "Testing data :(10000, 28, 28)   Testing labels :(10000,)\n"
     ]
    }
   ],
   "source": [
    "(x_train,y_train),(x_test,y_test) = mnist.load_data()\n",
    "print(\"Training data :{0}  Training labels :{1}\".format(x_train.shape,y_train.shape))\n",
    "print(\"Testing data :{0}   Testing labels :{1}\".format(x_test.shape,y_test.shape))"
   ]
  },
  {
   "cell_type": "markdown",
   "metadata": {},
   "source": [
    "### We will convert every data as float32 type for GPU computations"
   ]
  },
  {
   "cell_type": "code",
   "execution_count": 3,
   "metadata": {},
   "outputs": [],
   "source": [
    "x_train = x_train.astype('float32')\n",
    "y_train = y_train.astype('float32')\n",
    "x_test = x_test.astype('float32')\n",
    "y_test = y_test.astype('float32')"
   ]
  },
  {
   "cell_type": "markdown",
   "metadata": {},
   "source": [
    "#### Parameters"
   ]
  },
  {
   "cell_type": "code",
   "execution_count": 4,
   "metadata": {},
   "outputs": [],
   "source": [
    "Reshaped = 784        # 28*28 = 784\n",
    "epochs = 100\n",
    "n_classes = 10\n",
    "opt = SGD()"
   ]
  },
  {
   "cell_type": "markdown",
   "metadata": {},
   "source": [
    "#### Squashing the data to 784 long vector and normalizing every data point to (0,1)\n",
    "Every pixel in the image has a value between 0 and 255,i.e, 0 for black pixel and 255 for white pixel"
   ]
  },
  {
   "cell_type": "code",
   "execution_count": 5,
   "metadata": {},
   "outputs": [],
   "source": [
    "x_train = x_train.reshape(60000,Reshaped)\n",
    "x_test = x_test.reshape(10000,Reshaped)\n",
    "x_train /= 255\n",
    "x_test /= 255"
   ]
  },
  {
   "cell_type": "markdown",
   "metadata": {},
   "source": [
    "Categorize the data to 10 classes - handwritten digits fron 0 to 9"
   ]
  },
  {
   "cell_type": "code",
   "execution_count": 6,
   "metadata": {},
   "outputs": [],
   "source": [
    "y_train = np_utils.to_categorical(y_train,n_classes)\n",
    "y_test = np_utils.to_categorical(y_test,n_classes)"
   ]
  },
  {
   "cell_type": "markdown",
   "metadata": {},
   "source": [
    "### Build our Neural Network"
   ]
  },
  {
   "cell_type": "code",
   "execution_count": 7,
   "metadata": {},
   "outputs": [],
   "source": [
    "model = Sequential()\n",
    "model.add(Dense(10,input_shape=(Reshaped,),activation='softmax'))\n",
    "#model.add()"
   ]
  },
  {
   "cell_type": "code",
   "execution_count": 8,
   "metadata": {},
   "outputs": [
    {
     "data": {
      "text/plain": [
       "<bound method Network.summary of <keras.engine.sequential.Sequential object at 0x000000BD0D360F60>>"
      ]
     },
     "execution_count": 8,
     "metadata": {},
     "output_type": "execute_result"
    }
   ],
   "source": [
    "model.summary"
   ]
  },
  {
   "cell_type": "code",
   "execution_count": 9,
   "metadata": {},
   "outputs": [],
   "source": [
    "model.compile(optimizer=opt,loss='categorical_crossentropy',metrics=['accuracy'])"
   ]
  },
  {
   "cell_type": "markdown",
   "metadata": {},
   "source": [
    "### Training for 100 iterations"
   ]
  },
  {
   "cell_type": "code",
   "execution_count": 10,
   "metadata": {
    "scrolled": true
   },
   "outputs": [
    {
     "name": "stdout",
     "output_type": "stream",
     "text": [
      "Train on 48000 samples, validate on 12000 samples\n",
      "Epoch 1/100\n",
      "48000/48000 [==============================] - 1s 22us/step - loss: 1.3575 - acc: 0.6866 - val_loss: 0.8868 - val_acc: 0.8286\n",
      "Epoch 2/100\n",
      "48000/48000 [==============================] - 1s 19us/step - loss: 0.7880 - acc: 0.8288 - val_loss: 0.6552 - val_acc: 0.8568\n",
      "Epoch 3/100\n",
      "48000/48000 [==============================] - 1s 18us/step - loss: 0.6412 - acc: 0.8504 - val_loss: 0.5613 - val_acc: 0.8692\n",
      "Epoch 4/100\n",
      "48000/48000 [==============================] - 1s 19us/step - loss: 0.5695 - acc: 0.8602 - val_loss: 0.5093 - val_acc: 0.8767\n",
      "Epoch 5/100\n",
      "48000/48000 [==============================] - 1s 18us/step - loss: 0.5257 - acc: 0.8675 - val_loss: 0.4753 - val_acc: 0.8816\n",
      "Epoch 6/100\n",
      "48000/48000 [==============================] - 1s 19us/step - loss: 0.4956 - acc: 0.8729 - val_loss: 0.4510 - val_acc: 0.8863\n",
      "Epoch 7/100\n",
      "48000/48000 [==============================] - 1s 18us/step - loss: 0.4732 - acc: 0.8779 - val_loss: 0.4329 - val_acc: 0.8887\n",
      "Epoch 8/100\n",
      "48000/48000 [==============================] - 1s 19us/step - loss: 0.4560 - acc: 0.8809 - val_loss: 0.4187 - val_acc: 0.8917\n",
      "Epoch 9/100\n",
      "48000/48000 [==============================] - 1s 19us/step - loss: 0.4420 - acc: 0.8830 - val_loss: 0.4074 - val_acc: 0.8939\n",
      "Epoch 10/100\n",
      "48000/48000 [==============================] - 1s 19us/step - loss: 0.4305 - acc: 0.8857 - val_loss: 0.3977 - val_acc: 0.8968\n",
      "Epoch 11/100\n",
      "48000/48000 [==============================] - 1s 19us/step - loss: 0.4207 - acc: 0.8876 - val_loss: 0.3897 - val_acc: 0.8988\n",
      "Epoch 12/100\n",
      "48000/48000 [==============================] - 1s 19us/step - loss: 0.4123 - acc: 0.8889 - val_loss: 0.3827 - val_acc: 0.9002\n",
      "Epoch 13/100\n",
      "48000/48000 [==============================] - 1s 19us/step - loss: 0.4050 - acc: 0.8910 - val_loss: 0.3766 - val_acc: 0.9009\n",
      "Epoch 14/100\n",
      "48000/48000 [==============================] - 1s 19us/step - loss: 0.3985 - acc: 0.8921 - val_loss: 0.3713 - val_acc: 0.9017\n",
      "Epoch 15/100\n",
      "48000/48000 [==============================] - 1s 19us/step - loss: 0.3928 - acc: 0.8934 - val_loss: 0.3665 - val_acc: 0.9029\n",
      "Epoch 16/100\n",
      "48000/48000 [==============================] - 1s 19us/step - loss: 0.3876 - acc: 0.8942 - val_loss: 0.3622 - val_acc: 0.9033\n",
      "Epoch 17/100\n",
      "48000/48000 [==============================] - 1s 19us/step - loss: 0.3829 - acc: 0.8954 - val_loss: 0.3582 - val_acc: 0.9047\n",
      "Epoch 18/100\n",
      "48000/48000 [==============================] - 1s 19us/step - loss: 0.3787 - acc: 0.8964 - val_loss: 0.3546 - val_acc: 0.9053\n",
      "Epoch 19/100\n",
      "48000/48000 [==============================] - 1s 19us/step - loss: 0.3748 - acc: 0.8974 - val_loss: 0.3514 - val_acc: 0.9057\n",
      "Epoch 20/100\n",
      "48000/48000 [==============================] - 1s 19us/step - loss: 0.3712 - acc: 0.8978 - val_loss: 0.3485 - val_acc: 0.9062\n",
      "Epoch 21/100\n",
      "48000/48000 [==============================] - 1s 19us/step - loss: 0.3679 - acc: 0.8990 - val_loss: 0.3457 - val_acc: 0.9069\n",
      "Epoch 22/100\n",
      "48000/48000 [==============================] - 1s 20us/step - loss: 0.3648 - acc: 0.8999 - val_loss: 0.3432 - val_acc: 0.9073\n",
      "Epoch 23/100\n",
      "48000/48000 [==============================] - 1s 20us/step - loss: 0.3619 - acc: 0.9005 - val_loss: 0.3408 - val_acc: 0.9080\n",
      "Epoch 24/100\n",
      "48000/48000 [==============================] - 1s 19us/step - loss: 0.3592 - acc: 0.9007 - val_loss: 0.3386 - val_acc: 0.9076\n",
      "Epoch 25/100\n",
      "48000/48000 [==============================] - 1s 21us/step - loss: 0.3566 - acc: 0.9012 - val_loss: 0.3366 - val_acc: 0.9084\n",
      "Epoch 26/100\n",
      "48000/48000 [==============================] - 1s 19us/step - loss: 0.3543 - acc: 0.9018 - val_loss: 0.3346 - val_acc: 0.9087\n",
      "Epoch 27/100\n",
      "48000/48000 [==============================] - 1s 19us/step - loss: 0.3521 - acc: 0.9024 - val_loss: 0.3327 - val_acc: 0.9087\n",
      "Epoch 28/100\n",
      "48000/48000 [==============================] - 1s 19us/step - loss: 0.3499 - acc: 0.9031 - val_loss: 0.3310 - val_acc: 0.9087\n",
      "Epoch 29/100\n",
      "48000/48000 [==============================] - 1s 19us/step - loss: 0.3480 - acc: 0.9035 - val_loss: 0.3293 - val_acc: 0.9093\n",
      "Epoch 30/100\n",
      "48000/48000 [==============================] - 1s 19us/step - loss: 0.3460 - acc: 0.9040 - val_loss: 0.3278 - val_acc: 0.9103\n",
      "Epoch 31/100\n",
      "48000/48000 [==============================] - 1s 19us/step - loss: 0.3442 - acc: 0.9044 - val_loss: 0.3264 - val_acc: 0.9097\n",
      "Epoch 32/100\n",
      "48000/48000 [==============================] - 1s 19us/step - loss: 0.3425 - acc: 0.9046 - val_loss: 0.3249 - val_acc: 0.9107\n",
      "Epoch 33/100\n",
      "48000/48000 [==============================] - 1s 19us/step - loss: 0.3408 - acc: 0.9050 - val_loss: 0.3237 - val_acc: 0.9107\n",
      "Epoch 34/100\n",
      "48000/48000 [==============================] - 1s 20us/step - loss: 0.3392 - acc: 0.9054 - val_loss: 0.3223 - val_acc: 0.9114\n",
      "Epoch 35/100\n",
      "48000/48000 [==============================] - 1s 20us/step - loss: 0.3377 - acc: 0.9060 - val_loss: 0.3211 - val_acc: 0.9112\n",
      "Epoch 36/100\n",
      "48000/48000 [==============================] - 1s 19us/step - loss: 0.3363 - acc: 0.9063 - val_loss: 0.3199 - val_acc: 0.9110\n",
      "Epoch 37/100\n",
      "48000/48000 [==============================] - 1s 19us/step - loss: 0.3349 - acc: 0.9065 - val_loss: 0.3188 - val_acc: 0.9115\n",
      "Epoch 38/100\n",
      "48000/48000 [==============================] - 1s 19us/step - loss: 0.3336 - acc: 0.9073 - val_loss: 0.3177 - val_acc: 0.9123\n",
      "Epoch 39/100\n",
      "48000/48000 [==============================] - 1s 20us/step - loss: 0.3323 - acc: 0.9074 - val_loss: 0.3167 - val_acc: 0.9123\n",
      "Epoch 40/100\n",
      "48000/48000 [==============================] - 1s 20us/step - loss: 0.3311 - acc: 0.9077 - val_loss: 0.3157 - val_acc: 0.9127\n",
      "Epoch 41/100\n",
      "48000/48000 [==============================] - 1s 20us/step - loss: 0.3299 - acc: 0.9083 - val_loss: 0.3148 - val_acc: 0.9130\n",
      "Epoch 42/100\n",
      "48000/48000 [==============================] - 1s 20us/step - loss: 0.3287 - acc: 0.9085 - val_loss: 0.3138 - val_acc: 0.9128\n",
      "Epoch 43/100\n",
      "48000/48000 [==============================] - 1s 20us/step - loss: 0.3277 - acc: 0.9089 - val_loss: 0.3130 - val_acc: 0.9137\n",
      "Epoch 44/100\n",
      "48000/48000 [==============================] - 1s 19us/step - loss: 0.3266 - acc: 0.9093 - val_loss: 0.3121 - val_acc: 0.9132\n",
      "Epoch 45/100\n",
      "48000/48000 [==============================] - 1s 20us/step - loss: 0.3255 - acc: 0.9092 - val_loss: 0.3113 - val_acc: 0.9137\n",
      "Epoch 46/100\n",
      "48000/48000 [==============================] - 1s 19us/step - loss: 0.3246 - acc: 0.9096 - val_loss: 0.3105 - val_acc: 0.9137\n",
      "Epoch 47/100\n",
      "48000/48000 [==============================] - 1s 19us/step - loss: 0.3236 - acc: 0.9100 - val_loss: 0.3098 - val_acc: 0.9141\n",
      "Epoch 48/100\n",
      "48000/48000 [==============================] - 1s 19us/step - loss: 0.3226 - acc: 0.9100 - val_loss: 0.3090 - val_acc: 0.9145\n",
      "Epoch 49/100\n",
      "48000/48000 [==============================] - 1s 19us/step - loss: 0.3217 - acc: 0.9103 - val_loss: 0.3082 - val_acc: 0.9145\n",
      "Epoch 50/100\n",
      "48000/48000 [==============================] - 1s 21us/step - loss: 0.3208 - acc: 0.9105 - val_loss: 0.3076 - val_acc: 0.9147\n",
      "Epoch 51/100\n",
      "48000/48000 [==============================] - 1s 21us/step - loss: 0.3200 - acc: 0.9107 - val_loss: 0.3070 - val_acc: 0.9149\n",
      "Epoch 52/100\n",
      "48000/48000 [==============================] - 1s 18us/step - loss: 0.3192 - acc: 0.9108 - val_loss: 0.3062 - val_acc: 0.9152\n",
      "Epoch 53/100\n",
      "48000/48000 [==============================] - 1s 18us/step - loss: 0.3183 - acc: 0.9112 - val_loss: 0.3056 - val_acc: 0.9152\n",
      "Epoch 54/100\n",
      "48000/48000 [==============================] - 1s 17us/step - loss: 0.3176 - acc: 0.9118 - val_loss: 0.3051 - val_acc: 0.9152\n",
      "Epoch 55/100\n",
      "48000/48000 [==============================] - 1s 18us/step - loss: 0.3167 - acc: 0.9116 - val_loss: 0.3044 - val_acc: 0.9154\n",
      "Epoch 56/100\n",
      "48000/48000 [==============================] - 1s 17us/step - loss: 0.3160 - acc: 0.9120 - val_loss: 0.3038 - val_acc: 0.9154\n",
      "Epoch 57/100\n",
      "48000/48000 [==============================] - 1s 18us/step - loss: 0.3153 - acc: 0.9122 - val_loss: 0.3033 - val_acc: 0.9157\n",
      "Epoch 58/100\n",
      "48000/48000 [==============================] - 1s 18us/step - loss: 0.3146 - acc: 0.9121 - val_loss: 0.3027 - val_acc: 0.9158\n",
      "Epoch 59/100\n"
     ]
    },
    {
     "name": "stdout",
     "output_type": "stream",
     "text": [
      "48000/48000 [==============================] - 1s 19us/step - loss: 0.3139 - acc: 0.9123 - val_loss: 0.3021 - val_acc: 0.9158\n",
      "Epoch 60/100\n",
      "48000/48000 [==============================] - 1s 18us/step - loss: 0.3133 - acc: 0.9126 - val_loss: 0.3017 - val_acc: 0.9157\n",
      "Epoch 61/100\n",
      "48000/48000 [==============================] - 1s 18us/step - loss: 0.3126 - acc: 0.9128 - val_loss: 0.3011 - val_acc: 0.9158\n",
      "Epoch 62/100\n",
      "48000/48000 [==============================] - 1s 18us/step - loss: 0.3119 - acc: 0.9131 - val_loss: 0.3007 - val_acc: 0.9161\n",
      "Epoch 63/100\n",
      "48000/48000 [==============================] - 1s 18us/step - loss: 0.3113 - acc: 0.9131 - val_loss: 0.3001 - val_acc: 0.9161\n",
      "Epoch 64/100\n",
      "48000/48000 [==============================] - 1s 18us/step - loss: 0.3107 - acc: 0.9136 - val_loss: 0.2998 - val_acc: 0.9157\n",
      "Epoch 65/100\n",
      "48000/48000 [==============================] - 1s 18us/step - loss: 0.3101 - acc: 0.9133 - val_loss: 0.2993 - val_acc: 0.9162\n",
      "Epoch 66/100\n",
      "48000/48000 [==============================] - 1s 18us/step - loss: 0.3095 - acc: 0.9139 - val_loss: 0.2988 - val_acc: 0.9164\n",
      "Epoch 67/100\n",
      "48000/48000 [==============================] - ETA: 0s - loss: 0.3092 - acc: 0.914 - 1s 18us/step - loss: 0.3090 - acc: 0.9139 - val_loss: 0.2983 - val_acc: 0.9168\n",
      "Epoch 68/100\n",
      "48000/48000 [==============================] - 1s 18us/step - loss: 0.3084 - acc: 0.9141 - val_loss: 0.2979 - val_acc: 0.9167\n",
      "Epoch 69/100\n",
      "48000/48000 [==============================] - 1s 18us/step - loss: 0.3078 - acc: 0.9144 - val_loss: 0.2975 - val_acc: 0.9167\n",
      "Epoch 70/100\n",
      "48000/48000 [==============================] - 1s 18us/step - loss: 0.3073 - acc: 0.9141 - val_loss: 0.2971 - val_acc: 0.9172\n",
      "Epoch 71/100\n",
      "48000/48000 [==============================] - 1s 18us/step - loss: 0.3068 - acc: 0.9148 - val_loss: 0.2968 - val_acc: 0.9166\n",
      "Epoch 72/100\n",
      "48000/48000 [==============================] - 1s 18us/step - loss: 0.3063 - acc: 0.9147 - val_loss: 0.2964 - val_acc: 0.9167\n",
      "Epoch 73/100\n",
      "48000/48000 [==============================] - 1s 18us/step - loss: 0.3057 - acc: 0.9151 - val_loss: 0.2960 - val_acc: 0.9172\n",
      "Epoch 74/100\n",
      "48000/48000 [==============================] - 1s 18us/step - loss: 0.3053 - acc: 0.9150 - val_loss: 0.2956 - val_acc: 0.9172\n",
      "Epoch 75/100\n",
      "48000/48000 [==============================] - 1s 18us/step - loss: 0.3048 - acc: 0.9152 - val_loss: 0.2952 - val_acc: 0.9172\n",
      "Epoch 76/100\n",
      "48000/48000 [==============================] - 1s 18us/step - loss: 0.3043 - acc: 0.9150 - val_loss: 0.2948 - val_acc: 0.9175\n",
      "Epoch 77/100\n",
      "48000/48000 [==============================] - 1s 18us/step - loss: 0.3038 - acc: 0.9154 - val_loss: 0.2945 - val_acc: 0.9175\n",
      "Epoch 78/100\n",
      "48000/48000 [==============================] - 1s 18us/step - loss: 0.3034 - acc: 0.9155 - val_loss: 0.2941 - val_acc: 0.9176\n",
      "Epoch 79/100\n",
      "48000/48000 [==============================] - 1s 18us/step - loss: 0.3029 - acc: 0.9158 - val_loss: 0.2938 - val_acc: 0.9178\n",
      "Epoch 80/100\n",
      "48000/48000 [==============================] - 1s 18us/step - loss: 0.3025 - acc: 0.9159 - val_loss: 0.2935 - val_acc: 0.9180\n",
      "Epoch 81/100\n",
      "48000/48000 [==============================] - 1s 18us/step - loss: 0.3021 - acc: 0.9159 - val_loss: 0.2931 - val_acc: 0.9181\n",
      "Epoch 82/100\n",
      "48000/48000 [==============================] - 1s 18us/step - loss: 0.3016 - acc: 0.9163 - val_loss: 0.2929 - val_acc: 0.9182\n",
      "Epoch 83/100\n",
      "48000/48000 [==============================] - 1s 18us/step - loss: 0.3012 - acc: 0.9163 - val_loss: 0.2925 - val_acc: 0.9179\n",
      "Epoch 84/100\n",
      "48000/48000 [==============================] - 1s 18us/step - loss: 0.3008 - acc: 0.9164 - val_loss: 0.2922 - val_acc: 0.9184\n",
      "Epoch 85/100\n",
      "48000/48000 [==============================] - 1s 18us/step - loss: 0.3004 - acc: 0.9166 - val_loss: 0.2919 - val_acc: 0.9182\n",
      "Epoch 86/100\n",
      "48000/48000 [==============================] - 1s 18us/step - loss: 0.3000 - acc: 0.9164 - val_loss: 0.2916 - val_acc: 0.9185\n",
      "Epoch 87/100\n",
      "48000/48000 [==============================] - 1s 18us/step - loss: 0.2996 - acc: 0.9164 - val_loss: 0.2914 - val_acc: 0.9183\n",
      "Epoch 88/100\n",
      "48000/48000 [==============================] - 1s 19us/step - loss: 0.2992 - acc: 0.9170 - val_loss: 0.2911 - val_acc: 0.9186\n",
      "Epoch 89/100\n",
      "48000/48000 [==============================] - 1s 19us/step - loss: 0.2989 - acc: 0.9168 - val_loss: 0.2908 - val_acc: 0.9185\n",
      "Epoch 90/100\n",
      "48000/48000 [==============================] - 1s 20us/step - loss: 0.2985 - acc: 0.9166 - val_loss: 0.2906 - val_acc: 0.9183\n",
      "Epoch 91/100\n",
      "48000/48000 [==============================] - 1s 19us/step - loss: 0.2981 - acc: 0.9169 - val_loss: 0.2903 - val_acc: 0.9187\n",
      "Epoch 92/100\n",
      "48000/48000 [==============================] - 1s 19us/step - loss: 0.2977 - acc: 0.9172 - val_loss: 0.2900 - val_acc: 0.9184\n",
      "Epoch 93/100\n",
      "48000/48000 [==============================] - 1s 19us/step - loss: 0.2974 - acc: 0.9173 - val_loss: 0.2897 - val_acc: 0.9190\n",
      "Epoch 94/100\n",
      "48000/48000 [==============================] - 1s 18us/step - loss: 0.2970 - acc: 0.9171 - val_loss: 0.2895 - val_acc: 0.9189\n",
      "Epoch 95/100\n",
      "48000/48000 [==============================] - 1s 19us/step - loss: 0.2967 - acc: 0.9173 - val_loss: 0.2893 - val_acc: 0.9189\n",
      "Epoch 96/100\n",
      "48000/48000 [==============================] - 1s 18us/step - loss: 0.2963 - acc: 0.9173 - val_loss: 0.2890 - val_acc: 0.9194\n",
      "Epoch 97/100\n",
      "48000/48000 [==============================] - 1s 19us/step - loss: 0.2960 - acc: 0.9174 - val_loss: 0.2887 - val_acc: 0.9195\n",
      "Epoch 98/100\n",
      "48000/48000 [==============================] - 1s 19us/step - loss: 0.2956 - acc: 0.9178 - val_loss: 0.2887 - val_acc: 0.9192\n",
      "Epoch 99/100\n",
      "48000/48000 [==============================] - 1s 19us/step - loss: 0.2954 - acc: 0.9175 - val_loss: 0.2884 - val_acc: 0.9197\n",
      "Epoch 100/100\n",
      "48000/48000 [==============================] - 1s 18us/step - loss: 0.2950 - acc: 0.9175 - val_loss: 0.2881 - val_acc: 0.9197\n"
     ]
    }
   ],
   "source": [
    "training = model.fit(x_train,y_train,batch_size=128,epochs=epochs,validation_split=0.2)"
   ]
  },
  {
   "cell_type": "markdown",
   "metadata": {},
   "source": [
    "### Evaluation / Testing phase"
   ]
  },
  {
   "cell_type": "code",
   "execution_count": 50,
   "metadata": {},
   "outputs": [
    {
     "name": "stdout",
     "output_type": "stream",
     "text": [
      "10000/10000 [==============================] - 0s 22us/step\n",
      "Loss :0.2885895 Accuracy :91.93%\n"
     ]
    }
   ],
   "source": [
    "score = model.evaluate(x_test,y_test)\n",
    "\n",
    "print(\"Loss :{0} Accuracy :{1}%\".format(round(score[0],8),(round(score[1]*100,3))))"
   ]
  },
  {
   "cell_type": "code",
   "execution_count": null,
   "metadata": {},
   "outputs": [],
   "source": []
  }
 ],
 "metadata": {
  "kernelspec": {
   "display_name": "Python 3",
   "language": "python",
   "name": "python3"
  },
  "language_info": {
   "codemirror_mode": {
    "name": "ipython",
    "version": 3
   },
   "file_extension": ".py",
   "mimetype": "text/x-python",
   "name": "python",
   "nbconvert_exporter": "python",
   "pygments_lexer": "ipython3",
   "version": "3.6.5"
  }
 },
 "nbformat": 4,
 "nbformat_minor": 2
}
